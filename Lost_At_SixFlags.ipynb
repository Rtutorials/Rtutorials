{
 "cells": [
  {
   "cell_type": "code",
   "execution_count": 1,
   "metadata": {},
   "outputs": [],
   "source": [
    "import matplotlib\n",
    "import matplotlib.pyplot as plt\n",
    "import pandas as pd\n",
    "import numpy as np\n",
    "import random\n",
    "import math\n",
    "import statistics\n",
    "from scipy import stats"
   ]
  },
  {
   "cell_type": "markdown",
   "metadata": {},
   "source": [
    "# \"Lost At Six Flags\" \n",
    "### Can you find your friend faster if you are both moving or if they are standing still?\n",
    "###### Ben Hendel\n"
   ]
  },
  {
   "attachments": {
    "griddy.jpeg": {
     "image/jpeg": "[encoded data removed]"
    }
   },
   "cell_type": "markdown",
   "metadata": {},
   "source": [
    "![griddy.jpeg](attachment:griddy.jpeg)"
   ]
  },
  {
   "cell_type": "markdown",
   "metadata": {},
   "source": [
    "Imagine you and a friend are lost. \n",
    "\n",
    "Should you both look for each other or should one of you stay in place until the other one finds them? \n",
    "\n",
    "My idea is to test if two people can find each other faster if they both move around or if one stands still. The basic idea is to create a coordinate grid of numbers to traverse on in a 2D random walk, where the simulation ends when they intersect. Basic statistics of how many iterations it took are observed, and strategies are compared"
   ]
  },
  {
   "cell_type": "markdown",
   "metadata": {},
   "source": [
    "-----------"
   ]
  },
  {
   "cell_type": "markdown",
   "metadata": {},
   "source": [
    "I wish to fully explore the problem by tweaking various parameters that influence time of convergence, such as:\n",
    "\n",
    "##### Initial Position (central, edge, random)\n",
    "\n",
    "##### Initial Distance (1, 2, 3, opposite sides, random)\n",
    "\n",
    "##### Grid Size (20x20, 30x30, 50x50, 100x100...)"
   ]
  },
  {
   "cell_type": "markdown",
   "metadata": {},
   "source": [
    "\n",
    "\n",
    "And later, if possible:\n",
    "\n",
    "Grid Shape (Rectangle, Triangle, Hex)\n",
    "\n",
    "Agent's Speed (1, 2, 3 ,5...)\n",
    "\n",
    "Search Logic (Random Walk, Random Walk in one axis, optimal, etc)\n",
    "\n",
    "Obstacles/ Line of Sight (LOS)"
   ]
  },
  {
   "cell_type": "markdown",
   "metadata": {},
   "source": [
    "## Preparatory code"
   ]
  },
  {
   "cell_type": "code",
   "execution_count": 2,
   "metadata": {},
   "outputs": [],
   "source": [
    "def reset_grid(width, height):    # re-initializes the grid of given size for a new run\n",
    "    global previous_x1\n",
    "    global previous_y1\n",
    "    global previous_x2 \n",
    "    global previous_y2\n",
    "    global grid_width\n",
    "    global grid_height\n",
    "    global max_width\n",
    "    global max_height\n",
    "    global counter\n",
    "    \n",
    "    previous_x1 = None\n",
    "    previous_y1 = None\n",
    "    previous_x2 = None\n",
    "    previous_y2 = None\n",
    "    grid_width = range(width + 1)\n",
    "    grid_height = range(height + 1)\n",
    "    max_width = grid_width[-1]\n",
    "    max_height = grid_height[-1]\n",
    "    counter = 0"
   ]
  },
  {
   "cell_type": "code",
   "execution_count": 3,
   "metadata": {},
   "outputs": [],
   "source": [
    "reset_grid(20, 20)"
   ]
  },
  {
   "cell_type": "code",
   "execution_count": 4,
   "metadata": {},
   "outputs": [],
   "source": [
    "def update_grid(new_x1, new_y1, new_x2=10, new_y2=10, alpha=1):    # updates positions on graph and plots\n",
    "    global previous_x1\n",
    "    global previous_y1\n",
    "    global previous_x2\n",
    "    global previous_y2\n",
    "    global counter     # Counts total steps\n",
    "    \n",
    "    plt.figure(figsize=[3,3])\n",
    "    [plt.plot([x,x],[0, max_height],color='k') for x in grid_width]\n",
    "    [plt.plot([0, max_width],[y,y],color='k') for y in grid_height]\n",
    "        \n",
    "    if previous_x1 and previous_y1:\n",
    "        plt.scatter(previous_x1 , previous_y1, color = \"red\", alpha=0.25, zorder=10, s=100)\n",
    "    if previous_x2 and previous_y2:\n",
    "        plt.scatter(previous_x2, previous_y2, color = \"blue\", alpha=0.25, zorder=10, s=100)\n",
    "    plt.scatter(new_x1, new_y1, color = \"red\", alpha=1, zorder=10, s=100)\n",
    "    plt.scatter(new_x2, new_y2, color = \"blue\", alpha=1, zorder=10, s=100)\n",
    "    plt.show()\n",
    "\n",
    "    previous_x1 = new_x1\n",
    "    previous_y1 = new_y1\n",
    "    previous_x2 = new_x2\n",
    "    previous_y2 = new_y2\n",
    "    counter += 1"
   ]
  },
  {
   "cell_type": "markdown",
   "metadata": {},
   "source": [
    "We represent the two \"lost\" agents as two points on a map, blue and red. Here you can see where they are on the grid, as well as where they were one move ago"
   ]
  },
  {
   "cell_type": "code",
   "execution_count": 5,
   "metadata": {},
   "outputs": [
    {
     "data": {
      "image/png": "[encoded data removed]",
      "text/plain": [
       "<Figure size 216x216 with 1 Axes>"
      ]
     },
     "metadata": {
      "needs_background": "light"
     },
     "output_type": "display_data"
    },
    {
     "data": {
      "image/png": "[encoded data removed]",
      "text/plain": [
       "<Figure size 216x216 with 1 Axes>"
      ]
     },
     "metadata": {
      "needs_background": "light"
     },
     "output_type": "display_data"
    }
   ],
   "source": [
    "update_grid(10, 10, 9, 19, alpha=0.2)\n",
    "update_grid(9, 8, 6, 9, alpha=0.4)\n"
   ]
  },
  {
   "cell_type": "markdown",
   "metadata": {},
   "source": [
    "Unique objects are created for agents and the grid itself. An agent is either moving or stationary, and has a speed and starting coordinates. The agent is constrained to the boundaries of the grid area and it also intelligently \"bounces\" back in after hitting a wall. This is more realistic and prevents the agents from getting stuck in corners for extended periods. \n",
    "\n",
    "I also made it impossible to move back to the same square you just came from, since this is an unrealistic way to look for someone."
   ]
  },
  {
   "cell_type": "code",
   "execution_count": 6,
   "metadata": {},
   "outputs": [],
   "source": [
    "class Agent():\n",
    "    def __init__(self, start_x, start_y, speed=1, moving = True, search=\"random walk\", LOS=5):\n",
    "        self.start_x = start_x\n",
    "        self.start_y = start_y\n",
    "        self.x = start_x\n",
    "        self.y = start_y\n",
    "        self.speed = speed\n",
    "        self.search = search\n",
    "        self.LOS = LOS\n",
    "        self.moving = moving\n",
    "        self.turns = 0\n",
    "        self.distance_traveled = 0\n",
    "    \n",
    "    def is_outside_grid(self):\n",
    "        if self.x > max_width or self.y > max_height:\n",
    "            return True\n",
    "        else:\n",
    "            return False\n",
    "    \n",
    "    def get_position(self):\n",
    "        return((self.x, self.y))\n",
    "    \n",
    "    \n",
    "    def move_one(self):     # Runs one turn/ random walk\n",
    "        skipped = False\n",
    "        if not self.moving:\n",
    "            return None\n",
    "        if self.search == \"random walk\":\n",
    "            \n",
    "            step_x = None\n",
    "            step_y = None\n",
    "            \n",
    "            if self.x == 0:                            # bounces right when on left edge\n",
    "                step_x = random.randint(1, self.speed)\n",
    "            if self.x == max_width:                   # bounces left when on right edge\n",
    "                step_x = random.randint(-1*self.speed, -1)\n",
    "            if self.y == 0:                            # bounces up when on bottom edge\n",
    "                step_y = random.randint(1, self.speed)\n",
    "            if self.y == max_height:                  # bounces down when on top edge\n",
    "                step_y = random.randint(-1*self.speed, -1)\n",
    "\n",
    "            if step_x is None:\n",
    "                step_x = random.randint(-1*self.speed, self.speed)\n",
    "            if step_y is None:\n",
    "                step_y = random.randint(-1*self.speed, self.speed)\n",
    "\n",
    "            if step_x == 0 and step_y == 0:  # handle case when agent randomly stays in place by accident\n",
    "                self.move_one()\n",
    "                skipped = True\n",
    "                \n",
    "\n",
    "            if not skipped:    # move and compile statistics\n",
    "                self.x += step_x\n",
    "                self.y += step_y          \n",
    "                self.turns += 1\n",
    "                self.distance_traveled += np.abs(step_x)\n",
    "                self.distance_traveled += np.abs(step_y)   \n",
    "            \n",
    "            \n",
    "        elif search == \"semirandom\":    # for future use\n",
    "            pass\n",
    "        \n",
    "        elif search == \"optimal\":       # for future use\n",
    "            pass"
   ]
  },
  {
   "cell_type": "code",
   "execution_count": 7,
   "metadata": {},
   "outputs": [],
   "source": [
    "def check_if_converge(agent1, agent2):      # Checks if agents are at the same location\n",
    "    if agent1.x == agent2.x and agent1.y == agent2.y:\n",
    "        return True\n",
    "    else:\n",
    "        return False"
   ]
  },
  {
   "cell_type": "code",
   "execution_count": 8,
   "metadata": {},
   "outputs": [
    {
     "data": {
      "text/plain": [
       "False"
      ]
     },
     "execution_count": 8,
     "metadata": {},
     "output_type": "execute_result"
    }
   ],
   "source": [
    "agent2 = Agent(10, 10)\n",
    "agent1 = Agent(19, 19)\n",
    "check_if_converge(agent1, agent2)"
   ]
  },
  {
   "cell_type": "code",
   "execution_count": 9,
   "metadata": {},
   "outputs": [],
   "source": [
    "def experiment(start_x1 = 5, start_y1 = 10, start_x2 = 15, start_y2 = 10, iterations = 2000, width = 20, height = 20, moving = \"one\", plot = True, hist = False, plot_steps = False):\n",
    "    distances = []                    # Executes a run of several iterations and collects statistics, histogram, returns average\n",
    "    end_locations = []\n",
    "    reset_grid(width, height)\n",
    "    \n",
    "    if plot:\n",
    "        update_grid(start_x1, start_y1, start_x2, start_y2, alpha=1)\n",
    "    for iteration in range(iterations):\n",
    "        agent1 = Agent(start_x1, start_y1)\n",
    "        agent2 = Agent(start_x2, start_y2)\n",
    "\n",
    "        while not check_if_converge(agent1, agent2):       # while loop that moves agent until coordinates overlap\n",
    "            \n",
    "            agent1.move_one()                       # move first agent\n",
    "            \n",
    "            if moving == \"both\":\n",
    "                agent2.move_one()                   # move second agent\n",
    "            \n",
    "            if plot_steps:                                 # show intermediate plots every step if requested\n",
    "                plt.figure(figsize=[4,4])\n",
    "\n",
    "                [plt.plot([x,x],[0, height],color='k') for x in grid_width]\n",
    "                [plt.plot([0, width],[y,y],color='k') for y in grid_height]\n",
    "\n",
    "                plt.scatter(agent1.get_position()[0], agent1.get_position()[1], color = \"red\", alpha=1, zorder=10, s=100)\n",
    "                plt.scatter(agent2.get_position()[0], agent2.get_position()[1], color = \"blue\", alpha=1, zorder=10, s=100)\n",
    "\n",
    "                plt.show()\n",
    "\n",
    "\n",
    "                \n",
    "\n",
    "        distances.append(agent1.distance_traveled)\n",
    "        end_locations.append(agent1.get_position())\n",
    "\n",
    "        reset_grid(width, height)\n",
    "\n",
    "        agent1 = Agent(start_x1, start_y1)\n",
    "        agent2 = Agent(start_x2, start_y2)\n",
    "    \n",
    "    if plot:                        # show verbose output if requested\n",
    "        print(f\"Start location: {start_x1, start_y1, start_x2, start_y2}\")\n",
    "        print(f\"Iterations: {iterations}\")\n",
    "        print(f\"Grid size: {width, height}\")\n",
    "        print(f\"Agents moving: {moving}\")\n",
    "        print(f\"Mean end location: {sum(xcoord[0] for xcoord in end_locations)/len(end_locations), sum(xcoord[1] for xcoord in end_locations)/len(end_locations)}\")\n",
    "        print(f\"Average turns to convergence: {sum(distances)/len(distances)}\")\n",
    "        print(f\"95% Confidence interval for mean: {confidence_interval(sum(distances)/len(distances), statistics.stdev(distances), iterations)}\")\n",
    "        print(f\"Median turns to convergence: {statistics.median(distances)}\")\n",
    "        print(f\"Standard Deviation: {round(statistics.stdev(distances))}\")\n",
    "        if hist:\n",
    "            plt.figure(figsize=[3,3])\n",
    "            pd.Series(distances).hist()\n",
    "            plt.xlabel(\"moves\")\n",
    "            plt.ylabel(\"count\")\n",
    "            plt.title(\"Distribution\")\n",
    "            plt.show()\n",
    "    return sum(distances)/len(distances)\n",
    "    "
   ]
  },
  {
   "cell_type": "code",
   "execution_count": 10,
   "metadata": {},
   "outputs": [],
   "source": [
    "def confidence_interval(mean1, s1, n1, mean2 = None, s2 = None, n2 = None, two_sample = False):\n",
    "    if two_sample:\n",
    "        v1 = (((s1**2)/n1) + ((s2**2)/n2))**2\n",
    "        v2 = (((s1**2)/n1)**2)/(n1+1)\n",
    "        v3 = (((s2**2)/n2)**2)/(n2+1)\n",
    "        v = math.floor((v1/(v2 + v3)) - 2)\n",
    "        t = stats.t.ppf(q=1-(0.05/2), df=v)\n",
    "        upper = mean1 - mean2 + (((s1**2)/n1) + ((s2**2)/n2))**0.5\n",
    "        lower = mean1 - mean2 - (((s1**2)/n1) + ((s2**2)/n2))**0.5\n",
    "        return (min([lower, upper]), max([lower, upper]))\n",
    "    else:\n",
    "        t = stats.t.ppf(q=1-(0.05/2), df=n1-1)\n",
    "        upper = mean1 + (t*s1/(n1**0.5))\n",
    "        lower = mean1 - (t*s1/(n1**0.5))\n",
    "        return (round(min([lower, upper]), 2), round(max([lower, upper]), 2))\n",
    "        "
   ]
  },
  {
   "cell_type": "markdown",
   "metadata": {},
   "source": [
    "With that, let's take a look at a simple example of a both-moving search on a small 2x2 grid. Note here that diagonal motion is allowed"
   ]
  },
  {
   "cell_type": "code",
   "execution_count": 11,
   "metadata": {},
   "outputs": [
    {
     "data": {
      "image/png": "[encoded data removed]",
      "text/plain": [
       "<Figure size 216x216 with 1 Axes>"
      ]
     },
     "metadata": {
      "needs_background": "light"
     },
     "output_type": "display_data"
    },
    {
     "data": {
      "image/png": "[encoded data removed]",
      "text/plain": [
       "<Figure size 288x288 with 1 Axes>"
      ]
     },
     "metadata": {
      "needs_background": "light"
     },
     "output_type": "display_data"
    },
    {
     "data": {
      "image/png": "[encoded data removed]",
      "text/plain": [
       "<Figure size 288x288 with 1 Axes>"
      ]
     },
     "metadata": {
      "needs_background": "light"
     },
     "output_type": "display_data"
    },
    {
     "data": {
      "image/png": "[encoded data removed]",
      "text/plain": [
       "<Figure size 288x288 with 1 Axes>"
      ]
     },
     "metadata": {
      "needs_background": "light"
     },
     "output_type": "display_data"
    },
    {
     "data": {
      "image/png": "[encoded data removed]",
      "text/plain": [
       "<Figure size 288x288 with 1 Axes>"
      ]
     },
     "metadata": {
      "needs_background": "light"
     },
     "output_type": "display_data"
    },
    {
     "data": {
      "image/png": "[encoded data removed]",
      "text/plain": [
       "<Figure size 288x288 with 1 Axes>"
      ]
     },
     "metadata": {
      "needs_background": "light"
     },
     "output_type": "display_data"
    },
    {
     "name": "stdout",
     "output_type": "stream",
     "text": [
      "Start location: (1, 2, 2, 2)\n",
      "Iterations: 2\n",
      "Grid size: (2, 2)\n",
      "Agents moving: both\n",
      "Mean end location: (1.0, 1.0)\n",
      "Average turns to convergence: 4.0\n",
      "95% Confidence interval for mean: (-34.12, 42.12)\n",
      "Median turns to convergence: 4.0\n",
      "Standard Deviation: 4\n"
     ]
    },
    {
     "data": {
      "text/plain": [
       "4.0"
      ]
     },
     "execution_count": 11,
     "metadata": {},
     "output_type": "execute_result"
    }
   ],
   "source": [
    "random.seed(19)\n",
    "experiment(1, 2, 2, 2, width=2, height=2, moving=\"both\", plot_steps = True, iterations=2)\n"
   ]
  },
  {
   "cell_type": "markdown",
   "metadata": {},
   "source": [
    "## Start of Experiments"
   ]
  },
  {
   "cell_type": "markdown",
   "metadata": {},
   "source": [
    "Looks good, let's start doing full runs of many iterations, first looking at the case of only one agent moving"
   ]
  },
  {
   "cell_type": "code",
   "execution_count": 12,
   "metadata": {},
   "outputs": [
    {
     "data": {
      "image/png": "[encoded data removed]",
      "text/plain": [
       "<Figure size 216x216 with 1 Axes>"
      ]
     },
     "metadata": {
      "needs_background": "light"
     },
     "output_type": "display_data"
    },
    {
     "name": "stdout",
     "output_type": "stream",
     "text": [
      "Start location: (5, 10, 15, 10)\n",
      "Iterations: 20000\n",
      "Grid size: (20, 20)\n",
      "Agents moving: one\n",
      "Mean end location: (15.0, 10.0)\n",
      "Average turns to convergence: 1234.7423\n",
      "95% Confidence interval for mean: (1219.11, 1250.38)\n",
      "Median turns to convergence: 898.0\n",
      "Standard Deviation: 1128\n"
     ]
    },
    {
     "data": {
      "image/png": "[encoded data removed]",
      "text/plain": [
       "<Figure size 216x216 with 1 Axes>"
      ]
     },
     "metadata": {
      "needs_background": "light"
     },
     "output_type": "display_data"
    },
    {
     "data": {
      "text/plain": [
       "1234.7423"
      ]
     },
     "execution_count": 12,
     "metadata": {},
     "output_type": "execute_result"
    }
   ],
   "source": [
    "random.seed(10)\n",
    "experiment(5, 10, 15, 10, iterations=20000, hist=True)"
   ]
  },
  {
   "cell_type": "markdown",
   "metadata": {},
   "source": [
    "In the standard one-moving case with normally spaced points on a grid, it took an average of 1234.74 moves until the agent reached its destination, with the time being distributed roughly exponentially. Let's compare that to the Both Moving scenario."
   ]
  },
  {
   "cell_type": "code",
   "execution_count": 13,
   "metadata": {},
   "outputs": [
    {
     "data": {
      "image/png": "[encoded data removed]",
      "text/plain": [
       "<Figure size 216x216 with 1 Axes>"
      ]
     },
     "metadata": {
      "needs_background": "light"
     },
     "output_type": "display_data"
    },
    {
     "name": "stdout",
     "output_type": "stream",
     "text": [
      "Start location: (5, 10, 15, 10)\n",
      "Iterations: 20000\n",
      "Grid size: (20, 20)\n",
      "Agents moving: both\n",
      "Mean end location: (10.00525, 9.94365)\n",
      "Average turns to convergence: 1070.0366\n",
      "95% Confidence interval for mean: (1056.16, 1083.92)\n",
      "Median turns to convergence: 760.0\n",
      "Standard Deviation: 1002\n"
     ]
    },
    {
     "data": {
      "image/png": "[encoded data removed]",
      "text/plain": [
       "<Figure size 216x216 with 1 Axes>"
      ]
     },
     "metadata": {
      "needs_background": "light"
     },
     "output_type": "display_data"
    },
    {
     "data": {
      "text/plain": [
       "1070.0366"
      ]
     },
     "execution_count": 13,
     "metadata": {},
     "output_type": "execute_result"
    }
   ],
   "source": [
    "random.seed(10)\n",
    "experiment(5, 10, 15, 10, iterations=20000, moving=\"both\", hist=True)\n"
   ]
  },
  {
   "cell_type": "markdown",
   "metadata": {},
   "source": [
    "It appears that both moving is faster, with a smaller mean, median, and standard deviation."
   ]
  },
  {
   "cell_type": "code",
   "execution_count": 14,
   "metadata": {},
   "outputs": [
    {
     "name": "stdout",
     "output_type": "stream",
     "text": [
      "Difference in means CI:\n"
     ]
    },
    {
     "data": {
      "text/plain": [
       "(142.33207377228356, 163.66792622771644)"
      ]
     },
     "execution_count": 14,
     "metadata": {},
     "output_type": "execute_result"
    }
   ],
   "source": [
    "print(\"Difference in means CI:\")\n",
    "confidence_interval(1214, 1118, 20000, 1061, 1013, 20000, two_sample=True) "
   ]
  },
  {
   "cell_type": "markdown",
   "metadata": {},
   "source": [
    "Let's see how that changes when we change the starting positions of the points, bringing them closer together"
   ]
  },
  {
   "cell_type": "code",
   "execution_count": 15,
   "metadata": {},
   "outputs": [
    {
     "data": {
      "image/png": "[encoded data removed]",
      "text/plain": [
       "<Figure size 216x216 with 1 Axes>"
      ]
     },
     "metadata": {
      "needs_background": "light"
     },
     "output_type": "display_data"
    },
    {
     "name": "stdout",
     "output_type": "stream",
     "text": [
      "Start location: (6, 10, 14, 10)\n",
      "Iterations: 2000\n",
      "Grid size: (20, 20)\n",
      "Agents moving: one\n",
      "Mean end location: (14.0, 10.0)\n",
      "Average turns to convergence: 1174.095\n",
      "95% Confidence interval for mean: (1125.47, 1222.72)\n",
      "Median turns to convergence: 861.0\n",
      "Standard Deviation: 1109\n"
     ]
    },
    {
     "data": {
      "image/png": "[encoded data removed]",
      "text/plain": [
       "<Figure size 216x216 with 1 Axes>"
      ]
     },
     "metadata": {
      "needs_background": "light"
     },
     "output_type": "display_data"
    },
    {
     "name": "stdout",
     "output_type": "stream",
     "text": [
      "Start location: (6, 10, 14, 10)\n",
      "Iterations: 2000\n",
      "Grid size: (20, 20)\n",
      "Agents moving: both\n",
      "Mean end location: (9.9725, 10.0025)\n",
      "Average turns to convergence: 1059.889\n",
      "95% Confidence interval for mean: (1015.23, 1104.55)\n",
      "Median turns to convergence: 752.0\n",
      "Standard Deviation: 1018\n"
     ]
    },
    {
     "data": {
      "text/plain": [
       "1059.889"
      ]
     },
     "execution_count": 15,
     "metadata": {},
     "output_type": "execute_result"
    }
   ],
   "source": [
    "random.seed(20)\n",
    "experiment(6, 10, 14, 10, iterations=2000)\n",
    "random.seed(20)\n",
    "experiment(6, 10, 14, 10, iterations=2000, moving=\"both\")"
   ]
  },
  {
   "cell_type": "markdown",
   "metadata": {},
   "source": [
    "Predictably, starting closer together decreases both averages slightly, and Both Moving is once again faster (1059 turns vs 1174 turns)"
   ]
  },
  {
   "cell_type": "markdown",
   "metadata": {},
   "source": [
    "Let's try starting much closer together"
   ]
  },
  {
   "cell_type": "code",
   "execution_count": 16,
   "metadata": {},
   "outputs": [
    {
     "data": {
      "image/png": "[encoded data removed]",
      "text/plain": [
       "<Figure size 216x216 with 1 Axes>"
      ]
     },
     "metadata": {
      "needs_background": "light"
     },
     "output_type": "display_data"
    },
    {
     "name": "stdout",
     "output_type": "stream",
     "text": [
      "Start location: (8, 10, 12, 10)\n",
      "Iterations: 20000\n",
      "Grid size: (20, 20)\n",
      "Agents moving: one\n",
      "Mean end location: (12.0, 10.0)\n",
      "Average turns to convergence: 900.4343\n",
      "95% Confidence interval for mean: (886.73, 914.14)\n",
      "Median turns to convergence: 586.0\n",
      "Standard Deviation: 989\n"
     ]
    },
    {
     "data": {
      "image/png": "[encoded data removed]",
      "text/plain": [
       "<Figure size 216x216 with 1 Axes>"
      ]
     },
     "metadata": {
      "needs_background": "light"
     },
     "output_type": "display_data"
    },
    {
     "name": "stdout",
     "output_type": "stream",
     "text": [
      "Start location: (8, 10, 12, 10)\n",
      "Iterations: 20000\n",
      "Grid size: (20, 20)\n",
      "Agents moving: both\n",
      "Mean end location: (9.9905, 10.02815)\n",
      "Average turns to convergence: 937.87385\n",
      "95% Confidence interval for mean: (923.91, 951.84)\n",
      "Median turns to convergence: 625.0\n",
      "Standard Deviation: 1008\n"
     ]
    },
    {
     "data": {
      "text/plain": [
       "937.87385"
      ]
     },
     "execution_count": 16,
     "metadata": {},
     "output_type": "execute_result"
    }
   ],
   "source": [
    "random.seed(30)\n",
    "experiment(8, 10, 12, 10, iterations=20000)\n",
    "random.seed(30)\n",
    "experiment(8, 10, 12, 10, iterations=20000, moving=\"both\")"
   ]
  },
  {
   "cell_type": "markdown",
   "metadata": {},
   "source": [
    "Interestingly, now one stationary is faster! \n",
    "\n",
    "The likely explanation is that it's hard to find someone on an edge if you are moving randomly, but if they remain firmly in the center, that's a location that is passed multiple times"
   ]
  },
  {
   "cell_type": "markdown",
   "metadata": {},
   "source": [
    "Now let's try an extreme configuration: Both points starting on the very edge of the map"
   ]
  },
  {
   "cell_type": "code",
   "execution_count": 17,
   "metadata": {},
   "outputs": [
    {
     "data": {
      "image/png": "[encoded data removed]",
      "text/plain": [
       "<Figure size 216x216 with 1 Axes>"
      ]
     },
     "metadata": {
      "needs_background": "light"
     },
     "output_type": "display_data"
    },
    {
     "name": "stdout",
     "output_type": "stream",
     "text": [
      "Start location: (0, 10, 20, 10)\n",
      "Iterations: 1000\n",
      "Grid size: (20, 20)\n",
      "Agents moving: one\n",
      "Mean end location: (20.0, 10.0)\n",
      "Average turns to convergence: 2922.108\n",
      "95% Confidence interval for mean: (2750.25, 3093.97)\n",
      "Median turns to convergence: 2137.0\n",
      "Standard Deviation: 2769\n"
     ]
    },
    {
     "data": {
      "image/png": "[encoded data removed]",
      "text/plain": [
       "<Figure size 216x216 with 1 Axes>"
      ]
     },
     "metadata": {
      "needs_background": "light"
     },
     "output_type": "display_data"
    },
    {
     "name": "stdout",
     "output_type": "stream",
     "text": [
      "Start location: (0, 10, 20, 10)\n",
      "Iterations: 1000\n",
      "Grid size: (20, 20)\n",
      "Agents moving: both\n",
      "Mean end location: (10.137, 10.163)\n",
      "Average turns to convergence: 1143.756\n",
      "95% Confidence interval for mean: (1077.74, 1209.78)\n",
      "Median turns to convergence: 791.0\n",
      "Standard Deviation: 1064\n"
     ]
    },
    {
     "data": {
      "text/plain": [
       "1143.756"
      ]
     },
     "execution_count": 17,
     "metadata": {},
     "output_type": "execute_result"
    }
   ],
   "source": [
    "random.seed(40)\n",
    "experiment(0, 10, 20, 10, iterations=1000)\n",
    "random.seed(40)\n",
    "experiment(0, 10, 20, 10, iterations=1000, moving=\"both\")"
   ]
  },
  {
   "cell_type": "markdown",
   "metadata": {},
   "source": [
    "Both moving vastly overperforms one moving, likely due to the effect of \"bouncing\" off the walls"
   ]
  },
  {
   "cell_type": "markdown",
   "metadata": {},
   "source": [
    "## Initial results based on starting position"
   ]
  },
  {
   "cell_type": "markdown",
   "metadata": {},
   "source": [
    "Let's summarize these results in a graph. For reference, here are our starting positions:"
   ]
  },
  {
   "cell_type": "code",
   "execution_count": 18,
   "metadata": {},
   "outputs": [
    {
     "name": "stdout",
     "output_type": "stream",
     "text": [
      "Through middle\n"
     ]
    },
    {
     "data": {
      "text/plain": [
       "<Figure size 144x144 with 0 Axes>"
      ]
     },
     "metadata": {},
     "output_type": "display_data"
    },
    {
     "data": {
      "image/png": "[encoded data removed]",
      "text/plain": [
       "<Figure size 216x216 with 1 Axes>"
      ]
     },
     "metadata": {
      "needs_background": "light"
     },
     "output_type": "display_data"
    },
    {
     "name": "stdout",
     "output_type": "stream",
     "text": [
      "5 rows from the bottom\n"
     ]
    },
    {
     "data": {
      "text/plain": [
       "<Figure size 144x144 with 0 Axes>"
      ]
     },
     "metadata": {},
     "output_type": "display_data"
    },
    {
     "data": {
      "image/png": "[encoded data removed]",
      "text/plain": [
       "<Figure size 216x216 with 1 Axes>"
      ]
     },
     "metadata": {
      "needs_background": "light"
     },
     "output_type": "display_data"
    },
    {
     "name": "stdout",
     "output_type": "stream",
     "text": [
      "2 rows from the bottom\n"
     ]
    },
    {
     "data": {
      "text/plain": [
       "<Figure size 144x144 with 0 Axes>"
      ]
     },
     "metadata": {},
     "output_type": "display_data"
    },
    {
     "data": {
      "image/png": "[encoded data removed]",
      "text/plain": [
       "<Figure size 216x216 with 1 Axes>"
      ]
     },
     "metadata": {
      "needs_background": "light"
     },
     "output_type": "display_data"
    },
    {
     "name": "stdout",
     "output_type": "stream",
     "text": [
      "bottom\n"
     ]
    },
    {
     "data": {
      "text/plain": [
       "<Figure size 144x144 with 0 Axes>"
      ]
     },
     "metadata": {},
     "output_type": "display_data"
    },
    {
     "data": {
      "image/png": "[encoded data removed]",
      "text/plain": [
       "<Figure size 216x216 with 1 Axes>"
      ]
     },
     "metadata": {
      "needs_background": "light"
     },
     "output_type": "display_data"
    }
   ],
   "source": [
    "reset_grid(20,20)\n",
    "plt.figure(figsize=[2,2])\n",
    "print(\"Through middle\")\n",
    "update_grid(5, 10, 15, 10, alpha=0.2)\n",
    "\n",
    "reset_grid(20,20)\n",
    "plt.figure(figsize=[2,2])\n",
    "print(\"5 rows from the bottom\")\n",
    "update_grid(5, 5, 15, 5, alpha=1)\n",
    "\n",
    "reset_grid(20,20)\n",
    "plt.figure(figsize=[2,2])\n",
    "print(\"2 rows from the bottom\")\n",
    "update_grid(5, 2, 15, 2, alpha=1)\n",
    "\n",
    "reset_grid(20,20)\n",
    "plt.figure(figsize=[2,2])\n",
    "print(\"bottom\")\n",
    "update_grid(5, 0, 15, 0, alpha=1)"
   ]
  },
  {
   "cell_type": "code",
   "execution_count": 19,
   "metadata": {},
   "outputs": [],
   "source": [
    "def populate(height, xlist, ylist, ylist_both):\n",
    "    for d in range(10):\n",
    "        random.seed(60)\n",
    "        xlist.append(20-2*d)\n",
    "        time = experiment(d, height, 20-d, height, iterations=2000, plot=False)\n",
    "        random.seed(60)\n",
    "        ylist.append(time)\n",
    "        time_both = experiment(d, height, 20-d, height, iterations=2000, plot=False, moving=\"both\")\n",
    "        ylist_both.append(time_both)\n",
    "    "
   ]
  },
  {
   "cell_type": "code",
   "execution_count": 20,
   "metadata": {},
   "outputs": [],
   "source": [
    "initial_distances = []\n",
    "convergence_times = []\n",
    "convergence_times_both = []\n",
    "\n",
    "populate(10, initial_distances, convergence_times, convergence_times_both)\n",
    "\n",
    "initial_distances_bottom = []\n",
    "convergence_times_bottom = []\n",
    "convergence_times_bottom_both = []\n",
    "\n",
    "populate(0, initial_distances_bottom, convergence_times_bottom, convergence_times_bottom_both)\n",
    "\n",
    "initial_distances_quarter = []\n",
    "convergence_times_quarter = []\n",
    "convergence_times_quarter_both = []\n",
    "\n",
    "populate(5, initial_distances_quarter, convergence_times_quarter, convergence_times_quarter_both)\n",
    "\n",
    "initial_distances_near_bottom = []\n",
    "convergence_times_near_bottom = []\n",
    "convergence_times_near_bottom_both = []\n",
    "\n",
    "populate(2, initial_distances_near_bottom, convergence_times_near_bottom, convergence_times_near_bottom_both)"
   ]
  },
  {
   "cell_type": "code",
   "execution_count": 21,
   "metadata": {},
   "outputs": [
    {
     "data": {
      "text/plain": [
       "(0.0, 5000.0)"
      ]
     },
     "execution_count": 21,
     "metadata": {},
     "output_type": "execute_result"
    },
    {
     "data": {
      "image/png": "[encoded data removed]",
      "text/plain": [
       "<Figure size 720x576 with 1 Axes>"
      ]
     },
     "metadata": {
      "needs_background": "light"
     },
     "output_type": "display_data"
    }
   ],
   "source": [
    "plt.figure(figsize=[10,8])\n",
    "plt.plot(initial_distances, convergence_times, color = \"blue\")\n",
    "plt.plot(initial_distances_quarter, convergence_times_quarter, color = \"orange\")\n",
    "plt.plot(initial_distances_near_bottom, convergence_times_near_bottom, color = \"green\")\n",
    "plt.plot(initial_distances_bottom, convergence_times_bottom, color = \"red\")\n",
    "\n",
    "plt.plot(initial_distances, convergence_times_both, color = \"blue\", linestyle = \"dashed\")\n",
    "plt.plot(initial_distances_quarter, convergence_times_quarter_both, color = \"orange\", linestyle = \"dashed\")\n",
    "plt.plot(initial_distances_near_bottom, convergence_times_near_bottom_both, color = \"green\", linestyle = \"dashed\")\n",
    "plt.plot(initial_distances_bottom, convergence_times_bottom_both, color = \"red\", linestyle = \"dashed\")\n",
    "\n",
    "plt.legend([r\"horizontal axis through middle (10 from bottom)\", \"5 rows from the bottom\", \"2 rows from bottom\", \"bottom row\"])\n",
    "plt.title(r\"Steps until convergence based on starting distance (Dashed = Both Moving)\")\n",
    "plt.xlabel(\"Start distance apart\")\n",
    "plt.ylabel(\"Moves until convergence\")\n",
    "plt.ylim([0, 5000])"
   ]
  },
  {
   "cell_type": "markdown",
   "metadata": {},
   "source": [
    "Wow! A way better overall performance by all the both-moving searches. Since both agents start by moving and tend towards center, starting distance is pretty much a non factor, especially after a few moves. On the other hand, if one agent is stationary, it has to make it's way all the way close to a specific edge without getting lost too much. However, as observed before, for very small start distance (Around 4 or less), one moving performs slightly better."
   ]
  },
  {
   "cell_type": "markdown",
   "metadata": {},
   "source": [
    "For one agent stationary the trend is clear: Increase the start distance by one and the convergence time increases by 50 to 80 iterations (increasing as you go along). The effect is not quite exponential, but slightly above linear. The pattern is the same whether you start on the center horizontal axis or not, until you get to the edges, then it changes dramatically: Making a point have to converge to the edge is challenging because of the coded in bouncing-off effect, meaning an agent can't walk along the edge. This is realistic, since a human searching for a friend would return closer to the center after hitting a boundary, and straddling it would be an ineffective strategy. Variance didn't differ and was somewhat proportional to average steps to convergence, meaning the best strategy was also always the least risky."
   ]
  },
  {
   "cell_type": "markdown",
   "metadata": {},
   "source": [
    "------------"
   ]
  },
  {
   "cell_type": "markdown",
   "metadata": {},
   "source": [
    "## Grid Sizes"
   ]
  },
  {
   "cell_type": "markdown",
   "metadata": {},
   "source": [
    "Let's look at the effect of size, starting by upping the grid to 30 by 30.\n",
    "\n",
    "Now there is more room for an agent to get \"lost\" for several hundred turns, which makes performance sluggish"
   ]
  },
  {
   "cell_type": "code",
   "execution_count": 22,
   "metadata": {},
   "outputs": [
    {
     "data": {
      "image/png": "[encoded data removed]",
      "text/plain": [
       "<Figure size 216x216 with 1 Axes>"
      ]
     },
     "metadata": {
      "needs_background": "light"
     },
     "output_type": "display_data"
    },
    {
     "name": "stdout",
     "output_type": "stream",
     "text": [
      "Start location: (7, 15, 23, 15)\n",
      "Iterations: 1000\n",
      "Grid size: (30, 30)\n",
      "Agents moving: one\n",
      "Mean end location: (23.0, 15.0)\n",
      "Average turns to convergence: 3012.406\n",
      "95% Confidence interval for mean: (2844.6, 3180.21)\n",
      "Median turns to convergence: 2262.0\n",
      "Standard Deviation: 2704\n"
     ]
    },
    {
     "data": {
      "image/png": "[encoded data removed]",
      "text/plain": [
       "<Figure size 216x216 with 1 Axes>"
      ]
     },
     "metadata": {
      "needs_background": "light"
     },
     "output_type": "display_data"
    },
    {
     "name": "stdout",
     "output_type": "stream",
     "text": [
      "Start location: (7, 15, 23, 15)\n",
      "Iterations: 1000\n",
      "Grid size: (30, 30)\n",
      "Agents moving: both\n",
      "Mean end location: (14.892, 15.15)\n",
      "Average turns to convergence: 2495.902\n",
      "95% Confidence interval for mean: (2352.85, 2638.96)\n",
      "Median turns to convergence: 1797.0\n",
      "Standard Deviation: 2305\n"
     ]
    },
    {
     "data": {
      "text/plain": [
       "2495.902"
      ]
     },
     "execution_count": 22,
     "metadata": {},
     "output_type": "execute_result"
    }
   ],
   "source": [
    "random.seed(70)\n",
    "experiment(7, 15, 23, 15, width=30, height=30, iterations=1000)\n",
    "random.seed(70)\n",
    "experiment(7, 15, 23, 15, width=30, height=30, iterations=1000, moving=\"both\")"
   ]
  },
  {
   "cell_type": "markdown",
   "metadata": {},
   "source": [
    "Both moving once again performs better. Let's try a variety of grid sizes: 4x4, 10x10, 20x20, 30x30, 50x50, and even 100x100"
   ]
  },
  {
   "cell_type": "code",
   "execution_count": 23,
   "metadata": {},
   "outputs": [],
   "source": [
    "grid_sizes = [4, 10, 20, 30, 50, 100]\n",
    "convergence_times = []\n",
    "convergence_times_both = []\n",
    "\n",
    "for size in grid_sizes:\n",
    "    random.seed(80)\n",
    "    time = experiment(round(size*0.333), size*0.5, round(size*0.666), size*0.5, iterations=round(20000/size), width=size, height=size, plot=False)\n",
    "    convergence_times.append(time)\n",
    "    random.seed(80)\n",
    "    time_both = experiment(round(size*0.333), size*0.5, round(size*0.666), size*0.5, iterations=round(20000/size), width=size, height=size, plot=False, moving=\"both\")\n",
    "    convergence_times_both.append(time_both)"
   ]
  },
  {
   "cell_type": "code",
   "execution_count": 24,
   "metadata": {},
   "outputs": [
    {
     "data": {
      "text/plain": [
       "[31.0788, 230.978, 960.918, 2718.0269865067467, 7454.395, 36033.89]"
      ]
     },
     "execution_count": 24,
     "metadata": {},
     "output_type": "execute_result"
    }
   ],
   "source": [
    "convergence_times   # one moving, grid edge grid_sizes = 4, 10, 20, 30, 50, 100"
   ]
  },
  {
   "cell_type": "code",
   "execution_count": 25,
   "metadata": {},
   "outputs": [
    {
     "data": {
      "text/plain": [
       "[35.5628, 244.112, 1010.335, 2471.184407796102, 7493.085, 28575.915]"
      ]
     },
     "execution_count": 25,
     "metadata": {},
     "output_type": "execute_result"
    }
   ],
   "source": [
    "convergence_times_both    # both moving, grid edge grid_sizes = 4, 10, 20, 30, 50, 100"
   ]
  },
  {
   "cell_type": "code",
   "execution_count": 26,
   "metadata": {},
   "outputs": [
    {
     "data": {
      "image/png": "[encoded data removed]",
      "text/plain": [
       "<Figure size 432x288 with 1 Axes>"
      ]
     },
     "metadata": {
      "needs_background": "light"
     },
     "output_type": "display_data"
    }
   ],
   "source": [
    "plt.scatter(grid_sizes, np.array(convergence_times), color=\"green\", alpha=0.9, marker=\".\")\n",
    "plt.scatter(grid_sizes, np.array(convergence_times_both), color=\"purple\", alpha=0.7, marker=\".\")\n",
    "plt.title(\"Steps until convergence based on grid size\")\n",
    "plt.xlabel(r\"Grid Size (n by n)\")\n",
    "plt.ylabel(\"Moves\")\n",
    "plt.legend([\"One moving\", \"Both moving\"])\n",
    "plt.show()"
   ]
  },
  {
   "cell_type": "markdown",
   "metadata": {},
   "source": [
    "Overall, both-moving performs better for large grid sizes (30x30, 50x50, 100x100). One-moving performs slightly better for small grid sizes (less than 20x20).\n",
    "\n",
    "Doubling the grid size from 10x10 to 20x20 increased convergence time by factor of around 4, and doubling from 50x50 to 100x100 increased it by a factor of 4.6"
   ]
  },
  {
   "cell_type": "markdown",
   "metadata": {},
   "source": [
    "However, this ignores the effect of starting far away. To make things extreme, let's generate the same graph but with starting points being near opposit corners of the grid"
   ]
  },
  {
   "cell_type": "code",
   "execution_count": 28,
   "metadata": {},
   "outputs": [],
   "source": [
    "grid_sizes = [4, 10, 20, 30, 50, 100]\n",
    "convergence_times = []\n",
    "convergence_times_both = []\n",
    "\n",
    "for size in grid_sizes:\n",
    "    random.seed(90)\n",
    "    time = experiment(1, round(size*0.1), round(size*0.9), round(size*0.9), iterations=round(20000/size), width=size, height=size, plot=False)\n",
    "    convergence_times.append(time)\n",
    "    random.seed(90)\n",
    "    time_both = experiment(round(size*0.333), size*0.5, round(size*0.666), size*0.5, iterations=round(20000/size), width=size, height=size, plot=False, moving=\"both\")\n",
    "    convergence_times_both.append(time_both)"
   ]
  },
  {
   "cell_type": "code",
   "execution_count": 29,
   "metadata": {},
   "outputs": [
    {
     "data": {
      "text/plain": [
       "[218.0212, 519.391, 2265.114, 5516.7856071964015, 15454.4, 64297.06]"
      ]
     },
     "execution_count": 29,
     "metadata": {},
     "output_type": "execute_result"
    }
   ],
   "source": [
    "convergence_times"
   ]
  },
  {
   "cell_type": "code",
   "execution_count": 30,
   "metadata": {},
   "outputs": [
    {
     "data": {
      "text/plain": [
       "[35.205, 239.214, 1032.856, 2408.4287856071965, 7047.625, 29268.83]"
      ]
     },
     "execution_count": 30,
     "metadata": {},
     "output_type": "execute_result"
    }
   ],
   "source": [
    "convergence_times_both"
   ]
  },
  {
   "cell_type": "code",
   "execution_count": 31,
   "metadata": {},
   "outputs": [
    {
     "data": {
      "image/png": "[encoded data removed]",
      "text/plain": [
       "<Figure size 432x288 with 1 Axes>"
      ]
     },
     "metadata": {
      "needs_background": "light"
     },
     "output_type": "display_data"
    }
   ],
   "source": [
    "plt.scatter(grid_sizes, convergence_times, color=\"green\", alpha=0.9, marker=\".\")\n",
    "plt.scatter(grid_sizes, convergence_times_both, color=\"purple\", alpha=0.7, marker=\".\")\n",
    "plt.title(\"Steps until convergence based on grid size, starting opposite corners\")\n",
    "plt.xlabel(r\"Grid Size (n by n)\")\n",
    "plt.ylabel(\"Moves\")\n",
    "plt.legend([\"One moving\", \"Both moving\"])\n",
    "plt.show()"
   ]
  },
  {
   "cell_type": "markdown",
   "metadata": {},
   "source": [
    "Wow! Much better! Both moving is far superior in these kinds of situations"
   ]
  },
  {
   "cell_type": "markdown",
   "metadata": {},
   "source": [
    "----"
   ]
  },
  {
   "cell_type": "markdown",
   "metadata": {},
   "source": [
    "Overall conclusion: \n",
    "\n",
    "# Both agents searching is usually a better strategy!\n",
    "\n",
    "One stationary was a better strategy in one of a few specific conditions. These are:\n",
    "\n",
    "##### The grid is small and can be traversed in few steps\n",
    "\n",
    "or\n",
    "\n",
    "##### Agents start very close together\n",
    "\n",
    "\n",
    "So, long story short, if you have to find a random stranger at the theme park, you may want to both look for each other. If you are with someone in a small room and lose contact? Stay still."
   ]
  },
  {
   "cell_type": "markdown",
   "metadata": {},
   "source": [
    "## Accuracy and future steps"
   ]
  },
  {
   "cell_type": "markdown",
   "metadata": {},
   "source": [
    "The accuracy of the simulation rests upon how well it replicates reality. In real life, some of these underlying assumptions are violated. For example, when someone searches for someone, they don't exactly move randomly. They move in a way that captures new territory and roughly avoids repeat the same areas. This kind of movement is somewhat deterministic and somewhat stochastic, and is hard to capture in the code. The current implementation just avoids the last space the agent came from, but there can still be unrealistic \"cycles\" of a few moves. Further efforts will adjust the search to prefer avoiding spaces that have been visited, those that have been stored in a queue representing the \"history\" of the agent's travels."
   ]
  },
  {
   "attachments": {
    "travelingsales.jpeg": {
     "image/jpeg": "[encoded data removed]"
    }
   },
   "cell_type": "markdown",
   "metadata": {},
   "source": [
    "![travelingsales.jpeg](attachment:travelingsales.jpeg)"
   ]
  },
  {
   "cell_type": "markdown",
   "metadata": {},
   "source": [
    "In reality, the random walk performances are insuficcient. In fact, they can all be beaten by simply having one agent stay in place while the other agent performs a full sweep of every space in the grid! So it's easy to see why an \"intelligent\" search is needed."
   ]
  },
  {
   "cell_type": "markdown",
   "metadata": {},
   "source": [
    "In addition, there is the aspect of sight. In reality, you find someone when you see them. To properly determine this, a simulation should have a random \"visibility\" component, represented by things like line-of-sight and obstacles placed on the grid. A hexgrid of hexagons (using Uber's H3 library) would be a better simulation of motion since it allows diagonal motion, not just orthogonal/diagonal. This will be done in a future implementation, as well as adding the effects of walking speeds, and differently shaped grids."
   ]
  },
  {
   "attachments": {
    "los.png": {
     "image/png": "[encoded data removed]"
    }
   },
   "cell_type": "markdown",
   "metadata": {},
   "source": [
    "![los.png](attachment:los.png)"
   ]
  },
  {
   "cell_type": "markdown",
   "metadata": {},
   "source": [
    "Overall, Python and Jupyter notebooks were simple and convenient tools that were perfect for solving this problem. Simulation software, such as ARENA, was used at the beginning but failed and didn't allow enough flexibility for some aspects. For any questions about this project or my career, email me at bhendel@ucdavis.edu"
   ]
  }
 ],
 "metadata": {
  "kernelspec": {
   "display_name": "Python 3",
   "language": "python",
   "name": "python3"
  },
  "language_info": {
   "codemirror_mode": {
    "name": "ipython",
    "version": 3
   },
   "file_extension": ".py",
   "mimetype": "text/x-python",
   "name": "python",
   "nbconvert_exporter": "python",
   "pygments_lexer": "ipython3",
   "version": "3.8.5"
  }
 },
 "nbformat": 4,
 "nbformat_minor": 4
}
